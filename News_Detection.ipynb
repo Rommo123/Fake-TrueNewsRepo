# import pandas as pd
# from sklearn.tree import DecisionTreeClassifier
# from sklearn.model_selection import train_test_split
# import joblib
# from sklearn.metrics import accuracy_score
# music_data = pd.read_csv("music.csv")
# X = music_data.drop(columns=['genre']).values
# y = music_data.drop(columns=['age', 'gender'])
# X_train, X_test, y_train, y_test = train_test_split(X, y, test_size=0.1)
# model = DecisionTreeClassifier()
# model.fit(X_train, y_train)
# predictions = model.predict(X_test)
# score = accuracy_score(y_test, predictions)
# score
import pandas as pd
import numpy as np
import seaborn as sns
import matplotlib.pyplot as plt
from sklearn.model_selection import train_test_split
from sklearn.metrics import accuracy_score
from sklearn.metrics import classification_report
import re
import string
